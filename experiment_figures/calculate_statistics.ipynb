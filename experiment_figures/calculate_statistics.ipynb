{
 "cells": [
  {
   "cell_type": "code",
   "execution_count": 17,
   "metadata": {},
   "outputs": [
    {
     "name": "stdout",
     "output_type": "stream",
     "text": [
      "method:: four\n",
      "/data2/wuyinjun/mscoco_40k/output_100_seed_100_query_concept_image_concept_method_four.txt\n",
      "method:: four\n",
      "/data2/wuyinjun/mscoco_40k/output_100_seed_200_query_concept_image_concept_method_four.txt\n",
      "method:: four\n",
      "/data2/wuyinjun/mscoco_40k/output_100_seed_300_query_concept_image_concept_method_four.txt\n",
      "[0.5305, 0.4683, 0.4783]\n",
      "metric1: 0.3866666666666667 +- 0.05249338582674541\n",
      "metric2: 0.4923666666666666 +- 0.027271637688672485\n"
     ]
    }
   ],
   "source": [
    "import os\n",
    "\n",
    "data_path=\"/data2/wuyinjun/\"\n",
    "\n",
    "dataset_name = \"mscoco_40k\"\n",
    "\n",
    "full_data_path = os.path.join(data_path, dataset_name)\n",
    "\n",
    "seed_ls = [100,200,300]\n",
    "\n",
    "method=\"four\"\n",
    "# method=\"\"\n",
    "\n",
    "metric1 = \"NDCG@1:\"\n",
    "metric2 = \"NDCG@3:\"\n",
    "\n",
    "metric1_to_val = []\n",
    "metric2_to_val = []\n",
    "\n",
    "for seed in seed_ls:\n",
    "    print(\"method::\", method)\n",
    "    if method == \"two\" or method == \"four\":\n",
    "        if seed == 0:\n",
    "            output_filename = os.path.join(full_data_path, f\"output_100_query_concept_image_concept_method_{method}.txt\")\n",
    "        else:\n",
    "            output_filename = os.path.join(full_data_path, f\"output_100_seed_{seed}_query_concept_image_concept_method_{method}.txt\")\n",
    "    else:\n",
    "        if seed == 0:\n",
    "            output_filename = os.path.join(full_data_path, f\"output_100.txt\")\n",
    "        else:\n",
    "            output_filename = os.path.join(full_data_path, f\"output_100_seed_{seed}.txt\")\n",
    "    print(output_filename)\n",
    "    with open(output_filename, \"r\") as f:\n",
    "        for line in f:\n",
    "            if metric1 in line:\n",
    "                val = float(line.split(metric1)[1].strip())\n",
    "                metric1_to_val.append(val)\n",
    "            elif metric2 in line:\n",
    "                val = float(line.split(metric2)[1].strip())\n",
    "                metric2_to_val.append(val)\n",
    "            \n",
    "            \n",
    "print(metric2_to_val)\n",
    "avg_metric1 = sum(metric1_to_val) / len(metric1_to_val)\n",
    "avg_metric2 = sum(metric2_to_val) / len(metric2_to_val)\n",
    "std_metric1 = (sum([(val - avg_metric1)**2 for val in metric1_to_val]) / len(metric1_to_val))**0.5\n",
    "std_metric2 = (sum([(val - avg_metric2)**2 for val in metric2_to_val]) / len(metric2_to_val))**0.5\n",
    "print(f\"metric1: {avg_metric1} +- {std_metric1}\")\n",
    "print(f\"metric2: {avg_metric2} +- {std_metric2}\")"
   ]
  },
  {
   "cell_type": "code",
   "execution_count": 11,
   "metadata": {},
   "outputs": [
    {
     "name": "stdout",
     "output_type": "stream",
     "text": [
      "metric1: 0.09333333333333332 +- 0.10498677165349082\n",
      "metric2: 0.11893333333333334 +- 0.12574870001537017\n"
     ]
    }
   ],
   "source": [
    "import os\n",
    "\n",
    "data_path=\"/data2/wuyinjun/\"\n",
    "\n",
    "dataset_name = \"mscoco_40k\"\n",
    "\n",
    "full_data_path = os.path.join(data_path, dataset_name)\n",
    "\n",
    "seed_ls = [0,100,200]\n",
    "\n",
    "method=\"two\"\n",
    "# method=\"\"\n",
    "\n",
    "metric1 = \"NDCG@1:\"\n",
    "metric2 = \"NDCG@3:\"\n",
    "\n",
    "metric1_to_val = []\n",
    "metric2_to_val = []\n",
    "\n",
    "for seed in seed_ls:\n",
    "    # if method == \"two\" or method == \"four\":\n",
    "    # if seed == 0:\n",
    "    #     output_filename = os.path.join(full_data_path, f\"output_sparse_index.txt\")\n",
    "    # else: \n",
    "    output_filename = os.path.join(full_data_path, f\"output_add_sparse_random_seed_{seed}.txt\")\n",
    "    #     output_filename = os.path.join(full_data_path, f\"output_100_seed_{seed}_query_concept_image_concept_method_four.txt\")\n",
    "        \n",
    "    with open(output_filename, \"r\") as f:\n",
    "        for line in f:\n",
    "            if metric1 in line:\n",
    "                val = float(line.split(metric1)[1].strip())\n",
    "                metric1_to_val.append(val)\n",
    "            elif metric2 in line:\n",
    "                val = float(line.split(metric2)[1].strip())\n",
    "                metric2_to_val.append(val)\n",
    "            \n",
    "            \n",
    "\n",
    "avg_metric1 = sum(metric1_to_val) / len(metric1_to_val)\n",
    "avg_metric2 = sum(metric2_to_val) / len(metric2_to_val)\n",
    "std_metric1 = (sum([(val - avg_metric1)**2 for val in metric1_to_val]) / len(metric1_to_val))**0.5\n",
    "std_metric2 = (sum([(val - avg_metric2)**2 for val in metric2_to_val]) / len(metric2_to_val))**0.5\n",
    "print(f\"metric1: {avg_metric1} +- {std_metric1}\")\n",
    "print(f\"metric2: {avg_metric2} +- {std_metric2}\")"
   ]
  },
  {
   "cell_type": "code",
   "execution_count": 2,
   "metadata": {},
   "outputs": [
    {
     "name": "stdout",
     "output_type": "stream",
     "text": [
      "[-0.28179551  0.15781974  0.18382615]\n"
     ]
    }
   ],
   "source": [
    "import numpy as np\n",
    "our_acc_ls=[0.2016, 0.3250, 0.3323]\n",
    "base_acc = 0.2807\n",
    "relative_gains = (np.array(our_acc_ls) - np.array(base_acc))/np.array(base_acc)\n",
    "print(relative_gains)"
   ]
  }
 ],
 "metadata": {
  "kernelspec": {
   "display_name": "Python 3",
   "language": "python",
   "name": "python3"
  },
  "language_info": {
   "codemirror_mode": {
    "name": "ipython",
    "version": 3
   },
   "file_extension": ".py",
   "mimetype": "text/x-python",
   "name": "python",
   "nbconvert_exporter": "python",
   "pygments_lexer": "ipython3",
   "version": "3.8.18"
  }
 },
 "nbformat": 4,
 "nbformat_minor": 2
}
