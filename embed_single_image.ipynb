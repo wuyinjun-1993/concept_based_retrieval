{
 "cells": [
  {
   "cell_type": "code",
   "execution_count": 2,
   "metadata": {},
   "outputs": [],
   "source": [
    "%reload_ext autoreload\n",
    "%autoreload 2\n",
    "\n",
    "import torch\n",
    "from transformers import CLIPModel, AutoProcessor\n",
    "device = torch.device(\"cuda\" if torch.cuda.is_available() else \"cpu\")\n",
    "# processor = ViTImageProcessor.from_pretrained('google/vit-large-patch16-224')\n",
    "# model = ViTForImageClassification.from_pretrained('google/vit-large-patch16-224').to(device)\n",
    "model = CLIPModel.from_pretrained(\"openai/clip-vit-large-patch14\").to(device)\n",
    "# processor = AutoProcessor.from_pretrained(\"openai/clip-vit-large-patch14\")\n",
    "raw_processor = AutoProcessor.from_pretrained(\"openai/clip-vit-large-patch14\")\n",
    "# processor =  lambda images: raw_processor(images=images, return_tensors=\"pt\", padding=False, do_resize=False, do_center_crop=False)[\"pixel_values\"]\n",
    "processor =  lambda images: raw_processor(images=images, return_tensors=\"pt\")[\"pixel_values\"]\n",
    "text_processor =  lambda text: raw_processor(text=[text], return_tensors=\"pt\", padding=True, truncation=True)\n",
    "img_processor =  lambda images: raw_processor(images=images, return_tensors=\"pt\")[\"pixel_values\"]\n",
    "model = model.eval()"
   ]
  },
  {
   "cell_type": "code",
   "execution_count": 3,
   "metadata": {},
   "outputs": [
    {
     "ename": "FileNotFoundError",
     "evalue": "[Errno 2] No such file or directory: 'crepe_data/VG_100K_2/5.jpg'",
     "output_type": "error",
     "traceback": [
      "\u001b[0;31m---------------------------------------------------------------------------\u001b[0m",
      "\u001b[0;31mFileNotFoundError\u001b[0m                         Traceback (most recent call last)",
      "Cell \u001b[0;32mIn[3], line 7\u001b[0m\n\u001b[1;32m      5\u001b[0m \u001b[39m# can be any image\u001b[39;00m\n\u001b[1;32m      6\u001b[0m image_path \u001b[39m=\u001b[39m \u001b[39m\"\u001b[39m\u001b[39mcrepe_data/VG_100K_2/5.jpg\u001b[39m\u001b[39m\"\u001b[39m\n\u001b[0;32m----> 7\u001b[0m image \u001b[39m=\u001b[39m Image\u001b[39m.\u001b[39;49mopen(image_path)\n\u001b[1;32m      8\u001b[0m image \u001b[39m=\u001b[39m image\u001b[39m.\u001b[39mconvert(\u001b[39m'\u001b[39m\u001b[39mRGB\u001b[39m\u001b[39m'\u001b[39m)\n\u001b[1;32m     10\u001b[0m plt\u001b[39m.\u001b[39mimshow(image)\n",
      "File \u001b[0;32m/data6/wuyinjun/anaconda3/envs/test/lib/python3.8/site-packages/PIL/Image.py:3247\u001b[0m, in \u001b[0;36mopen\u001b[0;34m(fp, mode, formats)\u001b[0m\n\u001b[1;32m   3244\u001b[0m     filename \u001b[39m=\u001b[39m fp\n\u001b[1;32m   3246\u001b[0m \u001b[39mif\u001b[39;00m filename:\n\u001b[0;32m-> 3247\u001b[0m     fp \u001b[39m=\u001b[39m builtins\u001b[39m.\u001b[39;49mopen(filename, \u001b[39m\"\u001b[39;49m\u001b[39mrb\u001b[39;49m\u001b[39m\"\u001b[39;49m)\n\u001b[1;32m   3248\u001b[0m     exclusive_fp \u001b[39m=\u001b[39m \u001b[39mTrue\u001b[39;00m\n\u001b[1;32m   3250\u001b[0m \u001b[39mtry\u001b[39;00m:\n",
      "\u001b[0;31mFileNotFoundError\u001b[0m: [Errno 2] No such file or directory: 'crepe_data/VG_100K_2/5.jpg'"
     ]
    }
   ],
   "source": [
    "from matplotlib import pyplot as plt\n",
    "from matplotlib import image as mpimg\n",
    "from PIL import Image\n",
    "\n",
    "# can be any image\n",
    "image_path = \"crepe_data/VG_100K_2/1.jpg\"\n",
    "image = Image.open(image_path)\n",
    "image = image.convert('RGB')\n",
    "\n",
    "plt.imshow(image)\n",
    "plt.show()"
   ]
  },
  {
   "attachments": {},
   "cell_type": "markdown",
   "metadata": {},
   "source": [
    "# How to embed an image with clip"
   ]
  },
  {
   "cell_type": "code",
   "execution_count": 8,
   "metadata": {},
   "outputs": [],
   "source": [
    "def get_text_output_from_image(imgs, model):\n",
    "    # inputs = processor(imgs, return_tensors=\"pt\").to(\"cuda\")\n",
    "\n",
    "    with torch.no_grad():\n",
    "        # Select the CLS token embedding from the last hidden layer\n",
    "        # return model(pixel_values=imgs).last_hidden_state[:, 0, :]\n",
    "        return model.get_image_features(pixel_values=imgs, output_hidden_states=True)"
   ]
  },
  {
   "cell_type": "code",
   "execution_count": 10,
   "metadata": {},
   "outputs": [
    {
     "name": "stdout",
     "output_type": "stream",
     "text": [
      "torch.Size([1, 768])\n"
     ]
    }
   ],
   "source": [
    "def _to_device(x, device):\n",
    "    if isinstance(x, torch.Tensor):\n",
    "        return x.to(device)\n",
    "    elif isinstance(x, list):\n",
    "        return [_to_device(xi, device) for xi in x]\n",
    "\n",
    "patches = processor([image])\n",
    "x = _to_device(patches, device)\n",
    "image_emb = get_text_output_from_image(x, model)\n",
    "print(image_emb.shape)"
   ]
  },
  {
   "attachments": {},
   "cell_type": "markdown",
   "metadata": {},
   "source": [
    "# How to embed text with clip"
   ]
  },
  {
   "cell_type": "code",
   "execution_count": 11,
   "metadata": {},
   "outputs": [
    {
     "name": "stdout",
     "output_type": "stream",
     "text": [
      "torch.Size([1, 768])\n"
     ]
    }
   ],
   "source": [
    "query=\"the door has a frame around it,\" # and there is a second window on the building.\"\n",
    "inputs = text_processor(query)\n",
    "inputs = {key: val.to(device) for key, val in inputs.items()}\n",
    "text_features = model.get_text_features(**inputs)\n",
    "print(text_features.shape)"
   ]
  }
 ],
 "metadata": {
  "kernelspec": {
   "display_name": "test",
   "language": "python",
   "name": "python3"
  },
  "language_info": {
   "codemirror_mode": {
    "name": "ipython",
    "version": 3
   },
   "file_extension": ".py",
   "mimetype": "text/x-python",
   "name": "python",
   "nbconvert_exporter": "python",
   "pygments_lexer": "ipython3",
   "version": "3.8.18"
  },
  "orig_nbformat": 4
 },
 "nbformat": 4,
 "nbformat_minor": 2
}
