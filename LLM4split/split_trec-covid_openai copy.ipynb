{
 "cells": [
  {
   "cell_type": "code",
   "execution_count": 7,
   "metadata": {},
   "outputs": [
    {
     "name": "stdout",
     "output_type": "stream",
     "text": [
      "/home/wuyinjun/concept_based_retrieval\n"
     ]
    }
   ],
   "source": [
    "%reload_ext autoreload\n",
    "%autoreload 2\n",
    "\n",
    "import os, sys\n",
    "\n",
    "print(os.getcwd())\n",
    "root_path=os.getcwd()\n",
    "sys.path.append(os.path.join(root_path, \"LLM4split\"))\n",
    "from prompt_utils import obtain_response_from_openai, obtain_response_from_gpt_utils\n",
    "\n",
    "\n"
   ]
  },
  {
   "cell_type": "code",
   "execution_count": 8,
   "metadata": {},
   "outputs": [
    {
     "name": "stdout",
     "output_type": "stream",
     "text": [
      "\"health outcomes for children, children who contract COVID-19\"\n"
     ]
    }
   ],
   "source": [
    "response=obtain_response_from_openai(dataset_name=\"trec-covid\")\n",
    "print(response)"
   ]
  },
  {
   "cell_type": "code",
   "execution_count": 7,
   "metadata": {},
   "outputs": [
    {
     "name": "stdout",
     "output_type": "stream",
     "text": [
      "a pepperoni pizza on a tray| three pieces of pepperoni on a pizza| a tray in front of a window\n"
     ]
    }
   ],
   "source": [
    "prompt_training = \"You are a query decomposition assistant. For the following query Q (starting with Q), please check whether the following decomposed sub-queries \\\n",
    "    (starting with A and sub-queries are seperated by vertical lines \\\"|\\\") can be combined to express the same meaning of Q. \\n \\\n",
    "    If these sub-queries cannot collectively express the same meaning of Q, please modify those sub-queries or drop those unnecessary or redundant or incorrect sub-queries \\\n",
    "    such that the new set of sub-queries can collectively express the same meaning of Q. Finally only output the modified sub-queries seperated them by vertical lines \\\"|\\\" \\n \\\n",
    "    \"\n",
    "prompt = \"Q: a pepperoni pizza with three pieces of pepperoni on a tray in front of a window \\n \\\n",
    "    A: a pepperoni pizza on a tray| three pieces of pepperoni on a pizza| a tray in front of a window| a window. \\n \\\n",
    "    new A: \\\n",
    "    \"\n",
    "    \n",
    "prompt = prompt_training + prompt\n",
    "\n",
    "response = obtain_response_from_gpt_utils(prompt)\n",
    "print(response)"
   ]
  },
  {
   "cell_type": "code",
   "execution_count": 9,
   "metadata": {},
   "outputs": [
    {
     "name": "stdout",
     "output_type": "stream",
     "text": [
      "False\n"
     ]
    }
   ],
   "source": [
    "prompt_training = \"You are a query decomposition assistant. For the following query Q (starting with Q), please check whether the following decomposed sub-queries \\\n",
    "    (starting with A and sub-queries are seperated by vertical lines \\\"|\\\") 1) can be combined to express the same meaning of Q; 2) are not redundant or unnecessary. \\n \\\n",
    "    Please answer True or False \\n \\\n",
    "    \"\n",
    "prompt = \"Q: a pepperoni pizza with three pieces of pepperoni on a tray in front of a window \\n \\\n",
    "    A: a pepperoni pizza on a tray| three pieces of pepperoni on a pizza. \\n \\\n",
    "    True or False: \\\n",
    "    \"\n",
    "    \n",
    "prompt = prompt_training + prompt\n",
    "\n",
    "response = obtain_response_from_gpt_utils(prompt)\n",
    "print(response)"
   ]
  }
 ],
 "metadata": {
  "kernelspec": {
   "display_name": "Python 3",
   "language": "python",
   "name": "python3"
  },
  "language_info": {
   "codemirror_mode": {
    "name": "ipython",
    "version": 3
   },
   "file_extension": ".py",
   "mimetype": "text/x-python",
   "name": "python",
   "nbconvert_exporter": "python",
   "pygments_lexer": "ipython3",
   "version": "3.8.19"
  }
 },
 "nbformat": 4,
 "nbformat_minor": 2
}
