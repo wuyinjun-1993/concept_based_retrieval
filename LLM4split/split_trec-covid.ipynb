{
 "cells": [
  {
   "attachments": {},
   "cell_type": "markdown",
   "metadata": {},
   "source": [
    "Decompose text datasets with LLMs\n",
    "+ Based on Zhipu Api.\n",
    "\n",
    "Supported datasets:\n",
    "+ trec-covid\n",
    "+ msmarco (todo)"
   ]
  },
  {
   "cell_type": "code",
   "execution_count": 17,
   "metadata": {},
   "outputs": [],
   "source": [
    "import csv\n",
    "from zhipuai import ZhipuAI\n",
    "\n",
    "my_api_key = \"69a629a0f91455a08236a8dc5d74198b.0XT7BFKna9YEnJSP\""
   ]
  },
  {
   "cell_type": "code",
   "execution_count": 18,
   "metadata": {},
   "outputs": [
    {
     "name": "stdout",
     "output_type": "stream",
     "text": [
      "你是一个自然语言的疑问句分解助手，请结合语义，将Q中的疑问句，分解成中符合语义的关键词组，以逗号为分隔。 特别注意：根据语义，**关键词组是一个短语，包含完整的语义，尽量不是单个的单词**；以下是示例：Q: \"how does the coronavirus respond to changes in the weather\", A: \"coronavirus respond to changes, changes in the weather\", Q: \"what causes death from Covid-19?\", A: \"causes of death, death from Covid-19\", Q: \"what are the guidelines for triaging patients infected with coronavirus?\", A: \"guidelines for triaging patients, infected with coronavirus\", Q: \"what kinds of complications related to COVID-19 are associated with hypertension?\", A: \"what complications, complications related to COVID-19, complications associated with hypertension\", Q: \"what are the health outcomes for children who contract COVID-19?\", A: \"health outcomes for children, children who contract COVID-19\", \n"
     ]
    }
   ],
   "source": [
    "prompt_training = \"你是一个自然语言的疑问句分解助手，请结合语义，将Q中的疑问句，分解成中符合语义的关键词组，以逗号为分隔。 \\\n",
    "特别注意：根据语义，**关键词组是一个短语，包含完整的语义，尽量不是单个的单词**；\\\n",
    "以下是示例：\\\n",
    "Q: \\\"how does the coronavirus respond to changes in the weather\\\", \\\n",
    "A: \\\"coronavirus respond to changes, changes in the weather\\\", \\\n",
    "Q: \\\"what causes death from Covid-19?\\\", \\\n",
    "A: \\\"causes of death, death from Covid-19\\\", \\\n",
    "Q: \\\"what are the guidelines for triaging patients infected with coronavirus?\\\", \\\n",
    "A: \\\"guidelines for triaging patients, infected with coronavirus\\\", \\\n",
    "Q: \\\"what kinds of complications related to COVID-19 are associated with hypertension?\\\", \\\n",
    "A: \\\"what complications, complications related to COVID-19, complications associated with hypertension\\\", \\\n",
    "Q: \\\"what are the health outcomes for children who contract COVID-19?\\\", \\\n",
    "A: \\\"health outcomes for children, children who contract COVID-19\\\", \\\n",
    "\"\n",
    "\n",
    "# Q: \\\"how has COVID-19 affected Canada\\\", \\\n",
    "# A: \\\"COVID-19, impact on Canada\\\", \\\n",
    "\n",
    "print(prompt_training)"
   ]
  },
  {
   "cell_type": "code",
   "execution_count": 19,
   "metadata": {},
   "outputs": [
    {
     "name": "stdout",
     "output_type": "stream",
     "text": [
      "Q&A示例展示完毕，请给出以下Q的分解结果；输出格式：对于每一个Q，各回复一行分解后的子句\"分解后的句子\"，不要输出原句Q，每两行之间不要有空行。\n"
     ]
    }
   ],
   "source": [
    "# prompt_inferring = '请根据以上的要求和示例，请给出以下Q的分解结果。输出格式：对于每一个Q，只输出一行分解后的子句 \"A=分解后的句子\"，不需要输出原句Q，子句之间以\",\"分割，每两个A之间不要有空行。\\\n",
    "#     如果待分解句子中含有it和them等代词，则在分解的子句中，要结合句子含义将他们转换成对应的单词或词组；介词短语不能省略；\\\n",
    "#     每条分解后的子句都是有实际含义短语或短句，短句之间可以有单词相互重复，但尽量包含前后联系的语义信息，不是一个单独的词'\n",
    "\n",
    "prompt_inferring = 'Q&A示例展示完毕，请给出以下Q的分解结果；输出格式：对于每一个Q，各回复一行分解后的子句\"分解后的句子\"，不要输出原句Q，每两行之间不要有空行。'\n",
    "\n",
    "print(prompt_inferring)"
   ]
  },
  {
   "cell_type": "code",
   "execution_count": 20,
   "metadata": {},
   "outputs": [
    {
     "name": "stdout",
     "output_type": "stream",
     "text": [
      "0\n",
      "50\n",
      "origin of COVID-19\n",
      "coronavirus respond to changes in the weather\n",
      "SARS-CoV2 infected people, develop immunity, cross protection\n",
      "causes of death, death from Covid-19\n",
      "drugs active against SARS-CoV or SARS-CoV-2, animal studies\n",
      "types of rapid testing, testing for Covid-19\n",
      "serological tests, detect antibodies, coronavirus\n",
      "lack of testing availability, underreporting, true incidence of Covid-19\n",
      "COVID-19 affected Canada\n",
      "social distancing, impact on slowing spread of COVID-19\n",
      "guidelines for triaging patients, infected with coronavirus\n",
      "best practices, hospitals, home, maintaining quarantine\n",
      "transmission routes of coronavirus\n",
      "evidence related to COVID-19 super spreaders\n",
      "coronavirus live outside the body\n",
      "coronavirus remain stable on surfaces\n",
      "clinical trials available, coronavirus\n",
      "best masks, preventing infection by Covid-19\n",
      "hand sanitizer, needed to destroy Covid-19\n",
      "patients taking ACE inhibitors, increased risk for COVID-19\n",
      "mortality rates overall, specific populations\n",
      "cardiac complications, patients with COVID-19\n",
      "complications related to COVID-19, associated with hypertension\n",
      "complications related to COVID-19, associated with diabetes\n",
      "biomarkers, predict severe clinical course, 2019-nCOV infection\n",
      "initial symptoms of Covid-19\n",
      "infected with Covid-19, asymptomatic\n",
      "evidence for value of hydroxychloroquine, treating Covid-19\n",
      "SARS-CoV-2 proteins-human proteins interactions, potential drug targets, approved drugs repurposed\n",
      "remdesivir, effective treatment for COVID-19\n",
      "coronavirus differ from seasonal flu\n",
      "SARS-CoV-2 subtypes\n",
      "vaccine candidates, being tested for Covid-19\n",
      "longer-term complications, recover from COVID-19\n",
      "new public datasets, related to COVID-19\n",
      "protein structure of SARS-CoV-2 spike\n",
      "result of phylogenetic analysis, SARS-CoV-2 genome sequence\n",
      "mechanism of inflammatory response, pathogenesis of COVID-19 cases\n",
      "mechanism of cytokine storm syndrome, COVID-19\n",
      "observed mutations in SARS-CoV-2 genome, frequency of mutations\n",
      "impacts of COVID-19, African-Americans, differ from U.S. population\n",
      "Vitamin D impact, COVID-19 prevention and treatment\n",
      "COVID-19 pandemic impact, violence in society, violent crimes\n",
      "impact of masks, preventing spread of COVID-19\n",
      "COVID-19 pandemic impact, mental health\n",
      "evidence for dexamethasone, treatment for COVID-19\n",
      "health outcomes for children, contract COVID-19\n",
      "benefits and risks, re-opening schools, COVID-19 pandemic\n",
      "immune response, recover from COVID-19, antibody levels, T-cell mediated immunity, prevent re-infection\n",
      "mRNA vaccine, SARS-CoV-2 virus\n",
      "50\n",
      "100\n"
     ]
    }
   ],
   "source": [
    "# for generation of trec-covid\n",
    " \n",
    "client = ZhipuAI(api_key=my_api_key)\n",
    "\n",
    "test_choice = 1\n",
    "if test_choice:\n",
    "    input_file = './input/queries-trec-covid.txt'\n",
    "    output_file = './output/ans-trec-covid.txt'\n",
    "else:\n",
    "    input_file = './input/queries-msmarco.txt'\n",
    "    output_file = './output/ans-msmarco.txt'\n",
    "\n",
    "# prompt = input(\"user:\")\n",
    "begin = -50\n",
    "batch_size = 50\n",
    "while True:\n",
    "    begin = begin + batch_size\n",
    "    end = begin + batch_size\n",
    "    infer = []\n",
    "\n",
    "    print(begin)\n",
    "    print(end)\n",
    "    \n",
    "    if(end > 50):\n",
    "        break\n",
    "\n",
    "    with open(input_file, 'r', encoding='utf-8') as file:\n",
    "        for line_number, line in enumerate(file, start=1):\n",
    "            if begin <= line_number <= end:\n",
    "                infer.append(line.strip())\n",
    "            elif line_number > end:\n",
    "                break\n",
    "    \n",
    "    # print(infer)\n",
    "    for i in infer:\n",
    "        prompt_inferring = prompt_inferring + \"Q: \\\"\" + i + \"\\\",\"\n",
    "    \n",
    "    prompt_inferring = prompt_inferring + \"接下来请你完成分解任务，把疑问句Q分解成对应的**符合语义**的**包含原句信息**的**关键词组**。\"\n",
    "\n",
    "    # print(prompt_inferring)\n",
    "\n",
    "    prompt = prompt_training + prompt_inferring\n",
    "    # print(prompt)\n",
    "\n",
    "\n",
    "    response = client.chat.completions.create(\n",
    "        model=\"glm-4\",  # model\n",
    "        messages=[\n",
    "            {\"role\": \"user\", \"content\": prompt}\n",
    "        ],\n",
    "        temperature = 0.3, # parameters\n",
    "    )\n",
    "    # answer = response.choices[0].message\n",
    "    answer = response.choices[0].message.content\n",
    "    print(answer)\n",
    "\n",
    "    with open(output_file, 'a') as ans_file:\n",
    "        ans_file.write(answer)\n",
    "        ans_file.write(\"\\n\")"
   ]
  }
 ],
 "metadata": {
  "kernelspec": {
   "display_name": "Python 3",
   "language": "python",
   "name": "python3"
  },
  "language_info": {
   "codemirror_mode": {
    "name": "ipython",
    "version": 3
   },
   "file_extension": ".py",
   "mimetype": "text/x-python",
   "name": "python",
   "nbconvert_exporter": "python",
   "pygments_lexer": "ipython3",
   "version": "3.10.2"
  }
 },
 "nbformat": 4,
 "nbformat_minor": 2
}
