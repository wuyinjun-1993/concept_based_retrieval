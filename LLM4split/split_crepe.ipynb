{
 "cells": [
  {
   "cell_type": "markdown",
   "metadata": {},
   "source": [
    "Decompose crepe data with LLMs\n",
    "+ Based on Zhipu api."
   ]
  },
  {
   "cell_type": "code",
   "execution_count": 28,
   "metadata": {},
   "outputs": [],
   "source": [
    "import csv\n",
    "from zhipuai import ZhipuAI\n",
    "import datetime\n",
    "\n",
    "# zhipu api key\n",
    "my_api_key = \"69a629a0f91455a08236a8dc5d74198b.0XT7BFKna9YEnJSP\""
   ]
  },
  {
   "cell_type": "code",
   "execution_count": null,
   "metadata": {},
   "outputs": [],
   "source": [
    "prompt_training = \"你是一个查询语句分解助手，请并结合语义，将Q中的长句，分解成中符合语义的子句，其中每个子句物品的位置信息词组； \\\n",
    "分解的要求是，根据语义，使得分解后的每个子句都是包含原句信息的关键词组；\\\n",
    "如果原句中有多个“,”，子句的名词要根据上下文语义，带有其与前后物品之间的联系；\\\n",
    "以下是Q&A一一配对的示例，示例中将Q中的长句，分解成A中符合语义的子查询\\\n",
    "Q: \\\"keyboard, computer monitor, printer, and fax machine on a desk, with a chair against the wall.\\\", \\\n",
    "A: \\\"keyboard on a desk, computer monitor on a desk, printer on a desk, fax machine on a desk, a chair against the wall\\\", \\\n",
    "Q: \\\"woman wearing a sweater with a wrist pad on her keyboard in front of a monitor. there is a sticky note taped to the monitor and a juice bottle next to it.\\\", \\\n",
    "A: \\\"woman wearing a sweater, a wrist pad on her keyboard, her keyboard in front of a monitor, a sticky note taped to the monitor, a juice bottle next to monitor.\\\", \\\n",
    "Q: \\\"man with sleeves and a hand on a keyboard in front of a cpu. there are books on the cpu and a mouse next to the keyboard.\\\", \\\n",
    "A: \\\"man with sleeves, a hand on a keyboard, a keyboard in front of a cpu, books on the cpu, a mouse next to the keyboard.\\\", \\\n",
    "Q: \\\"shelves with books and a baby on them, against a wall with a corkboard and posters\\\", \\\n",
    "A: \\\"shelves with books, a baby on books, a bady against a wall, a wall with a corkboard, a wall with posters\\\", \\\n",
    "Q: \\\"computer on a desk with a mouse and cup. there is a computer tower below the desk and lint on the floor.\\\", \\\n",
    "A: \\\"computer on a desk, a desk with a mouse, a desk with a cup, a computer tower below the desk,  and a computer tower below the lint, lint on the floor.\\\", \\\n",
    "Q: \\\"a rolodex, desk, chair, monitor, and book on a desk. there is a picture of a baby propped up against the monitor.\\\", \\\n",
    "A: \\\"a rolodex on a desk, chair on a desk, monitor on a desk, book on a desk, a picture of a baby propped up against the monitor.\\\", \\\n",
    "Q: \\\"envelope, soda cup, book, and pen on a desk next to a computer monitor. there is a picture on the desk.\\\", \\\n",
    "A: \\\"envelope on a desk, soda cup on a desk, book on a desk, pen on a desk, a desk next to a computer monitor, a picture on the desk.\\\", \\\n",
    "Q: \\\"sign on a pole next to a man on a sidewalk. there is a parking meter and people on the sidewalk. there is a boy by the parking meter.\\\", \\\n",
    "A: \\\"sign on a pole, a pole next to a man, a man on a sidewalk, a parking meter on the sidewalk, people on the sidewalk, a boy by the parking meter.\\\", \\\n",
    "Q: \\\"keyboard and telephone on top of a desk made of books with a computer and mouse next to it. there is a bookshelf with books on it.\\\", \\\n",
    "A: \\\"keyboard on top of a desk, telephone on top of a desk, a desk made of books, books with a computer, books with mouse. a bookshelf with books\\\", \\\n",
    "Q: \\\"a man with two eyes and a torso. the man is standing in a room and has a hand.\\\", \\\n",
    "A: \\\"a man with two eyes, a man with a torso, a man is standing in a room, a man has a hand.\\\", \\\n",
    "Q: \\\"sign on a building with a window and balcony. the door has a frame around it, and there is a second window on the building.\\\", \\\n",
    "A: \\\"sign on a building, a building with a window, a building with balcony, the door has a frame around it, a second window on the building.\\\", \\\n",
    "Q: \\\"light on a car in front of a house. the car has a left brake-light, and the house has a window. there is an emblem on the back of the car, and a log on the house.\\\", \\\n",
    "A: \\\"light on a car, a car in front of a house, the car has a left brake-light, the house has a window, an emblem on the back of the car, a log on the house.\\\", \\\n",
    "Q: \\\"there is a tree, another tree, and another tree on the lawn. there is a person hunched over on the lawn, and a light pole in front of the building.\\\", \\\n",
    "A: \\\"a tree on the lawn, another tree on the lawn, another tree on the lawn, a person hunched over on the lawn, a light pole in front of the building.\\\", \\\n",
    "Q: \\\"a recliner facing a television that is next to a wall. the television is on a stand in the corner and has a sign atop it.\\\", \\\n",
    "A: \\\"a recliner facing a television, a television is next to a wall, the television is on a stand, a stand in the corner, the television has a sign atop it.\\\", \\\n",
    "\"\n",
    "\n",
    "print(prompt_training)"
   ]
  },
  {
   "cell_type": "code",
   "execution_count": 30,
   "metadata": {},
   "outputs": [
    {
     "name": "stdout",
     "output_type": "stream",
     "text": [
      "Q&A示例展示完毕，请给出以下Q的分解结果；输出格式：对于每一个Q，各回复一行分解后的子句\"A=分解后的句子\"，不要输出原句Q，每两行之间不要有空行。\n"
     ]
    }
   ],
   "source": [
    "# Small scale test\n",
    "\n",
    "# prompt_inferring_test = '请根据以上的要求和示例，请给出以下Q的分解结果。输出格式：对于每一个Q，只输出一行分解后的子句 \"A=分解后的句子\"，不需要输出原句Q，子句之间以\",\"分割，每两个A之间不要有空行。\\\n",
    "#     如果待分解句子中含有it和them等代词，则在分解的子句中，要结合句子含义将他们转换成对应的单词或词组；介词短语不能省略；\\\n",
    "#     每条分解后的子句都是有实际含义短语或短句，短句之间可以有单词相互重复，但尽量包含前后联系的语义信息，不是一个单独的词'\n",
    "\n",
    "prompt_inferring_test = 'Q&A示例展示完毕，请给出以下Q的分解结果；输出格式：对于每一个Q，各回复一行分解后的子句\"A=分解后的句子\"，不要输出原句Q，每两行之间不要有空行。'\n",
    "\n",
    "# input for testing\n",
    "Q7 = \"Q = \\\"table with photos, a vase, and a bow on it, and a chair by the table\\\" \"\n",
    "Q8 = \"Q = \\\"lamp stand with a desk lamp on it and duct tape. there are books on a desk and a keyboard on the table.\\\"\"\n",
    "Q9 = \"Q = \\\"a fence surrounding a building, with a bird fountain in front of it that is covered in snow, and a gate leading into the building\t\\\"\"\n",
    "Q10 = \"Q = \\\"airplane with wheels in the middle of it and light under it, in the sky with clouds\\\"\"\n",
    "\n",
    "# prompt_inferring = 'Give the answer : Q: \"%s\", Q: \"%s\" (only give the A of each Q divided by &&)' % (Q5, Q6)\n",
    "prompt_inferring_test = prompt_inferring_test + Q7 + Q8 + Q9 + Q10\n",
    "\n",
    "prompt_test = prompt_training + prompt_inferring_test\n",
    "print(prompt_test)"
   ]
  },
  {
   "cell_type": "code",
   "execution_count": 36,
   "metadata": {},
   "outputs": [
    {
     "name": "stdout",
     "output_type": "stream",
     "text": [
      "A=table with photos, a vase on a table, a bow on a table, a chair by the table\n",
      "\n",
      "A=lamp stand with a desk lamp, duct tape on a lamp stand, books on a desk, a keyboard on the table\n",
      "\n",
      "A=a fence surrounding a building, a bird fountain in front of the building, a fountain covered in snow, a gate leading into the building\n",
      "\n",
      "A=airplane with wheels in the middle, light under the airplane, the airplane in the sky, clouds in the sky\n"
     ]
    }
   ],
   "source": [
    "# Small scale test\n",
    "\n",
    "client = ZhipuAI(api_key=my_api_key) # APIKey\n",
    "\n",
    "# prompt = input(\"user:\")\n",
    "\n",
    "test_txt_file = 'test_prompt.txt'\n",
    "\n",
    "while True:\n",
    "\n",
    "    response = client.chat.completions.create(\n",
    "        model=\"glm-4\",  # model\n",
    "        messages=[\n",
    "            {\"role\": \"user\", \"content\": prompt_test}\n",
    "        ],\n",
    "        temperature = 0.3,\n",
    "    )\n",
    "    # answer = response.choices[0].message\n",
    "    answer = response.choices[0].message.content\n",
    "    print(answer)\n",
    "\n",
    "    with open(test_txt_file, 'a') as ans_file:\n",
    "        current_datetime = datetime.datetime.now()\n",
    "        time_str = current_datetime.strftime(\"%Y-%m-%d %H:%M:%S\")\n",
    "        \n",
    "        ans_file.write(\"\\n\")\n",
    "        ans_file.write(time_str)\n",
    "        ans_file.write(\"\\n\")\n",
    "        ans_file.write(answer)\n",
    "        ans_file.write(\"\\n\")\n",
    "    \n",
    "    break"
   ]
  },
  {
   "cell_type": "code",
   "execution_count": 4,
   "metadata": {},
   "outputs": [
    {
     "name": "stdout",
     "output_type": "stream",
     "text": [
      "260\n",
      "280\n",
      "white bin on right side of playroom floor, pink and white table to right of playroom, colorful rug in middle of playroom, blue post to right of playroom, small white fridge in back of playroom.\n",
      "bread and debris on a table, a chair at the top of the table.\n",
      "three cabinets in a kitchen, a blender and bottle on the counter.\n",
      "utensils next to a can, a clock display with a blender on top, a cabinet above the clock display.\n",
      "cabinet with a knob and a microwave oven, a stove with a clock display and a knob on the back, a can sitting on the clock display.\n",
      "blender sitting on a clock display, a stove with two knobs on the back and an oven door with a glass window.\n",
      "stainless steel jar with utensils, sink with a drying rack, faucet on the sink.\n",
      "coffee maker in corner, toaster on the counter, bag of coffee on the counter, four knives on the counter, cabinets above the counter.\n",
      "a stove with a knob, cooking pot on the stove, two drawers below the stove, three knobs on the stove.\n",
      "a pan on a stove, refrigerator next to the stove, freezer section at the top of the refrigerator, a burner on the stove, a pantry door in the kitchen.\n",
      "two knobs over a stove with a handle, a window in the door, a row of drawers next to the stove.\n",
      "a person on rocks, a child standing on the rocks, a tree standing by the rocks.\n",
      "boy swimming in a pool with a ladder, a statue in another pool in the background.\n",
      "a pillow on a chair next to a couch, a lamp in the corner, a blanket on the couch, the couch against the wall.\n",
      "a man below boxes, a table holding lemons, boxes above the lemons.\n",
      "a couch by a wall, a decoration on the wall, a bird by the couch.\n",
      "pail with a handle, another pail, another pail hanging from a wall, a window in the wall, a table under the window.\n",
      "bridge casts shadow, shadow on the bridge, river covering the surface, brush near the bridge, beam giving support.\n",
      "man next to a waterfall, pebbles and a rock by the waterfall, shadow on the pebbles, the man with hair.\n",
      "curtain on another stage, stage in an auditorium, lights in back of the auditorium, another lights near the curtain, wall in the auditorium.\n",
      "280\n",
      "300\n"
     ]
    }
   ],
   "source": [
    "# for large-scale generation\n",
    " \n",
    "client = ZhipuAI(api_key=my_api_key) # APIKey\n",
    "\n",
    "input_csv = '.\\input\\data_input1.csv'\n",
    "output_txt = 'ans.txt'\n",
    "\n",
    "# prompt = input(\"user:\")\n",
    "batch_size = 20\n",
    "generate_size = 800\n",
    "\n",
    "batch_begin = -20\n",
    "batch_end = 0\n",
    "\n",
    "while True:\n",
    "    batch_begin = batch_begin + batch_size\n",
    "    batch_end = batch_begin + batch_size\n",
    "    if batch_begin >= generate_size:\n",
    "        break\n",
    "\n",
    "    print(batch_begin)\n",
    "    print(batch_end)\n",
    "\n",
    "    infer = []\n",
    "\n",
    "    with open(input_csv, 'r') as csv_file:\n",
    "        csv_reader = csv.reader(csv_file)\n",
    "        for i, row in enumerate(csv_reader):\n",
    "            if i >= batch_begin and i < batch_end:\n",
    "                infer.append(row[0])\n",
    "            # infer.append(row[0])\n",
    "\n",
    "    # print(infer)\n",
    "\n",
    "    prompt_inferring = 'Q&A示例展示完毕，请给出以下Q的分解结果；输出格式：对于每一个\"Q:\"的原长句，返回一行分解后的子句，你不应该输出原句Q；\\\n",
    "     如果待分解句子中含有it，则在分解的子句中，要结合句子含义将it转换成对应的名词；分解后的句子中冠词a不省略。'\n",
    "    for i in infer:\n",
    "        prompt_inferring = prompt_inferring + \"Q: \\\"\" + i + \"\\\",\"\n",
    "\n",
    "    # print(prompt_inferring)\n",
    "\n",
    "    prompt = prompt_training + prompt_inferring\n",
    "    # print(prompt)\n",
    "\n",
    "\n",
    "    response = client.chat.completions.create(\n",
    "        model=\"glm-4\",  # model\n",
    "        messages=[\n",
    "            {\"role\": \"user\", \"content\": prompt}\n",
    "        ],\n",
    "        temperature = 0.3,\n",
    "    )\n",
    "    # answer = response.choices[0].message\n",
    "    answer = response.choices[0].message.content\n",
    "    print(answer)\n",
    "\n",
    "    with open(output_txt, 'a') as ans_file:\n",
    "        ans_file.write(answer)\n",
    "        ans_file.write(\"\\n\")\n",
    "    "
   ]
  }
 ],
 "metadata": {
  "kernelspec": {
   "display_name": "Python 3",
   "language": "python",
   "name": "python3"
  },
  "language_info": {
   "codemirror_mode": {
    "name": "ipython",
    "version": 3
   },
   "file_extension": ".py",
   "mimetype": "text/x-python",
   "name": "python",
   "nbconvert_exporter": "python",
   "pygments_lexer": "ipython3",
   "version": "3.10.2"
  }
 },
 "nbformat": 4,
 "nbformat_minor": 2
}
